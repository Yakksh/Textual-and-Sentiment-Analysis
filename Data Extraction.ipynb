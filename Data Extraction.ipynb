{
 "cells": [
  {
   "cell_type": "code",
   "execution_count": 1,
   "id": "f4848eed",
   "metadata": {},
   "outputs": [],
   "source": [
    "import pandas as pd\n",
    "from bs4 import BeautifulSoup\n",
    "import requests"
   ]
  },
  {
   "cell_type": "code",
   "execution_count": 2,
   "id": "fb47a95b",
   "metadata": {},
   "outputs": [
    {
     "data": {
      "text/plain": [
       "URL_ID\n",
       "1.0      https://insights.blackcoffer.com/is-telehealth...\n",
       "2.0      https://insights.blackcoffer.com/how-telehealt...\n",
       "3.0      https://insights.blackcoffer.com/is-telemedici...\n",
       "4.0      https://insights.blackcoffer.com/is-telehealth...\n",
       "5.0      https://insights.blackcoffer.com/how-people-di...\n",
       "                               ...                        \n",
       "146.0    https://insights.blackcoffer.com/blockchain-fo...\n",
       "147.0    https://insights.blackcoffer.com/the-future-of...\n",
       "148.0    https://insights.blackcoffer.com/big-data-anal...\n",
       "149.0    https://insights.blackcoffer.com/business-anal...\n",
       "150.0    https://insights.blackcoffer.com/challenges-an...\n",
       "Name: URL, Length: 150, dtype: object"
      ]
     },
     "execution_count": 2,
     "metadata": {},
     "output_type": "execute_result"
    }
   ],
   "source": [
    "data = pd.read_excel('input.xlsx', index_col=0)\n",
    "data['URL']"
   ]
  },
  {
   "cell_type": "code",
   "execution_count": 3,
   "id": "66123db9",
   "metadata": {},
   "outputs": [],
   "source": [
    "headers = {\n",
    "    \"User-Agent\": \"Mozilla/5.0 (X11; Linux x86_64; rv:60.0) Gecko/20100101 Firefox/60.0\"\n",
    "}"
   ]
  },
  {
   "cell_type": "code",
   "execution_count": 4,
   "id": "df37541f",
   "metadata": {},
   "outputs": [],
   "source": [
    "articles = pd.DataFrame(columns=['Title', 'Text'])"
   ]
  },
  {
   "cell_type": "code",
   "execution_count": 5,
   "id": "22a6b9fc",
   "metadata": {},
   "outputs": [],
   "source": [
    "for index, url in enumerate(data['URL']):\n",
    "    html_text = requests.get(url, headers=headers).text\n",
    "    soup = BeautifulSoup(html_text, 'lxml')\n",
    "    title = soup.find('h1', class_='entry-title').text\n",
    "    article_text = soup.find('div', class_='td-post-content').text\n",
    "    \n",
    "    articles = articles.append({'Title': title, 'Text': article_text}, ignore_index=True)\n",
    "    \n",
    "#     with open(f'Extracted Articles/{index+1}.txt', 'w+', errors='ignore') as f:\n",
    "#         f.write(f'{title}\\n')\n",
    "#         f.write(article_text)"
   ]
  },
  {
   "cell_type": "code",
   "execution_count": 6,
   "id": "fa8ae216",
   "metadata": {},
   "outputs": [
    {
     "data": {
      "text/html": [
       "<div>\n",
       "<style scoped>\n",
       "    .dataframe tbody tr th:only-of-type {\n",
       "        vertical-align: middle;\n",
       "    }\n",
       "\n",
       "    .dataframe tbody tr th {\n",
       "        vertical-align: top;\n",
       "    }\n",
       "\n",
       "    .dataframe thead th {\n",
       "        text-align: right;\n",
       "    }\n",
       "</style>\n",
       "<table border=\"1\" class=\"dataframe\">\n",
       "  <thead>\n",
       "    <tr style=\"text-align: right;\">\n",
       "      <th></th>\n",
       "      <th>Title</th>\n",
       "      <th>Text</th>\n",
       "    </tr>\n",
       "  </thead>\n",
       "  <tbody>\n",
       "    <tr>\n",
       "      <th>0</th>\n",
       "      <td>Is telehealth the future of healthcare?</td>\n",
       "      <td>\\n\\nCovid-19 has paved the way for advancement...</td>\n",
       "    </tr>\n",
       "    <tr>\n",
       "      <th>1</th>\n",
       "      <td>How Telehealth and Telemedicine helping people...</td>\n",
       "      <td>\\nThe last 2 years are the most critical time ...</td>\n",
       "    </tr>\n",
       "    <tr>\n",
       "      <th>2</th>\n",
       "      <td>Is telemedicine effective in treating patients?</td>\n",
       "      <td>\\nTelemedicine, which allows patients and doct...</td>\n",
       "    </tr>\n",
       "    <tr>\n",
       "      <th>3</th>\n",
       "      <td>The Future of Telehealth Services</td>\n",
       "      <td>\\nTelemedicine refers to a specific set of cli...</td>\n",
       "    </tr>\n",
       "    <tr>\n",
       "      <th>4</th>\n",
       "      <td>How are people diverted to Telehealth services...</td>\n",
       "      <td>\\nThe future of telehealth stays positive\\nTo ...</td>\n",
       "    </tr>\n",
       "    <tr>\n",
       "      <th>...</th>\n",
       "      <td>...</td>\n",
       "      <td>...</td>\n",
       "    </tr>\n",
       "    <tr>\n",
       "      <th>145</th>\n",
       "      <td>Blockchain for Payments</td>\n",
       "      <td>\\nReconciling with the financial realities of ...</td>\n",
       "    </tr>\n",
       "    <tr>\n",
       "      <th>146</th>\n",
       "      <td>The future of Investing</td>\n",
       "      <td>\\nWhat Is an Investment?\\nAn investment is a r...</td>\n",
       "    </tr>\n",
       "    <tr>\n",
       "      <th>147</th>\n",
       "      <td>Big Data Analytics in Healthcare</td>\n",
       "      <td>\\nQuality and affordable healthcare is a visio...</td>\n",
       "    </tr>\n",
       "    <tr>\n",
       "      <th>148</th>\n",
       "      <td>Business Analytics In The Healthcare Industry</td>\n",
       "      <td>\\nAnalytics is a statistical scientific proces...</td>\n",
       "    </tr>\n",
       "    <tr>\n",
       "      <th>149</th>\n",
       "      <td>Challenges and Opportunities of Big Data in He...</td>\n",
       "      <td>\\nBig Data\\nTo begin with I shall first like t...</td>\n",
       "    </tr>\n",
       "  </tbody>\n",
       "</table>\n",
       "<p>150 rows × 2 columns</p>\n",
       "</div>"
      ],
      "text/plain": [
       "                                                 Title  \\\n",
       "0              Is telehealth the future of healthcare?   \n",
       "1    How Telehealth and Telemedicine helping people...   \n",
       "2      Is telemedicine effective in treating patients?   \n",
       "3                    The Future of Telehealth Services   \n",
       "4    How are people diverted to Telehealth services...   \n",
       "..                                                 ...   \n",
       "145                            Blockchain for Payments   \n",
       "146                            The future of Investing   \n",
       "147                   Big Data Analytics in Healthcare   \n",
       "148      Business Analytics In The Healthcare Industry   \n",
       "149  Challenges and Opportunities of Big Data in He...   \n",
       "\n",
       "                                                  Text  \n",
       "0    \\n\\nCovid-19 has paved the way for advancement...  \n",
       "1    \\nThe last 2 years are the most critical time ...  \n",
       "2    \\nTelemedicine, which allows patients and doct...  \n",
       "3    \\nTelemedicine refers to a specific set of cli...  \n",
       "4    \\nThe future of telehealth stays positive\\nTo ...  \n",
       "..                                                 ...  \n",
       "145  \\nReconciling with the financial realities of ...  \n",
       "146  \\nWhat Is an Investment?\\nAn investment is a r...  \n",
       "147  \\nQuality and affordable healthcare is a visio...  \n",
       "148  \\nAnalytics is a statistical scientific proces...  \n",
       "149  \\nBig Data\\nTo begin with I shall first like t...  \n",
       "\n",
       "[150 rows x 2 columns]"
      ]
     },
     "execution_count": 6,
     "metadata": {},
     "output_type": "execute_result"
    }
   ],
   "source": [
    "articles"
   ]
  },
  {
   "cell_type": "code",
   "execution_count": 7,
   "id": "1b56c031",
   "metadata": {},
   "outputs": [],
   "source": [
    "articles.to_excel('Articles.xlsx')"
   ]
  }
 ],
 "metadata": {
  "kernelspec": {
   "display_name": "Python 3 (ipykernel)",
   "language": "python",
   "name": "python3"
  },
  "language_info": {
   "codemirror_mode": {
    "name": "ipython",
    "version": 3
   },
   "file_extension": ".py",
   "mimetype": "text/x-python",
   "name": "python",
   "nbconvert_exporter": "python",
   "pygments_lexer": "ipython3",
   "version": "3.9.6"
  }
 },
 "nbformat": 4,
 "nbformat_minor": 5
}
